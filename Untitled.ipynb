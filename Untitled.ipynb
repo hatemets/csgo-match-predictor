{
 "cells": [
  {
   "cell_type": "code",
   "execution_count": 165,
   "id": "58fdbc70",
   "metadata": {},
   "outputs": [],
   "source": [
    "import numpy as np\n",
    "import pandas as pd\n",
    "import matplotlib.pyplot as plt\n",
    "from sklearn.preprocessing import LabelEncoder\n",
    "from sklearn.model_selection import train_test_split, KFold\n",
    "\n",
    "from sklearn.linear_model import LogisticRegression"
   ]
  },
  {
   "cell_type": "markdown",
   "id": "19cda715",
   "metadata": {},
   "source": [
    "#### Fetching the data"
   ]
  },
  {
   "cell_type": "code",
   "execution_count": 166,
   "id": "a32300a3",
   "metadata": {},
   "outputs": [],
   "source": [
    "df = pd.read_csv(\"data.csv\")"
   ]
  },
  {
   "cell_type": "code",
   "execution_count": 167,
   "id": "7e14062f",
   "metadata": {},
   "outputs": [],
   "source": [
    "# Irrelevant features\n",
    "irr_fts = {\n",
    "    \"weapon\": [\"ak47\", \"ssg08\", \"fiveseven\", \"p250\", \"usps\", \"aug\", \"awp\", \"galilar\", \"glock\", \"cz75auto\", \"bizon\", \"elite\", \"famas\", \"g3sg1\", \"m249\", \"m4a1s\", \"m4a4\", \"mac10\", \"mag7\", \"mp5sd\", \"mp7\", \"mp9\", \"negev\", \"nova\", \"p90\", \"r8revolver\", \"sawedoff\", \"scar20\", \"sg553\", \"ump45\", \"xm1014\", \"deagle\", \"tec9\", \"p2000\"],\n",
    "    \"grenade\": [\"hegrenade\", \"decoygrenade\", \"flashbang\", \"smokegrenade\", \"incendiarygrenade\", \"molotovgrenade\"]\n",
    "}\n",
    "\n",
    "irr_cols = [] \n",
    "\n",
    "for ft_type, ft_names in irr_fts.items():\n",
    "    for ft_name in ft_names:\n",
    "        for side in [\"ct\", \"t\"]:\n",
    "            value = f\"{side}_{ft_type}_{ft_name}\"\n",
    "            irr_cols.append(value)"
   ]
  },
  {
   "cell_type": "markdown",
   "id": "ee482da2",
   "metadata": {},
   "source": [
    "#### Remove irrelevant columns"
   ]
  },
  {
   "cell_type": "code",
   "execution_count": 168,
   "id": "94f94a28",
   "metadata": {},
   "outputs": [],
   "source": [
    "df.drop(columns=irr_cols, inplace=True)"
   ]
  },
  {
   "cell_type": "markdown",
   "id": "6c8e3478",
   "metadata": {},
   "source": [
    "#### Convert features to suitable data types"
   ]
  },
  {
   "cell_type": "code",
   "execution_count": 169,
   "id": "7a18fd1b",
   "metadata": {
    "scrolled": true
   },
   "outputs": [],
   "source": [
    "le = LabelEncoder()\n",
    "df[\"map\"] = le.fit_transform(df[\"map\"])\n",
    "df[\"round_winner\"] = le.fit_transform(df[\"round_winner\"])\n",
    "df[\"bomb_planted\"] = df[\"bomb_planted\"].astype(np.int16)"
   ]
  },
  {
   "cell_type": "code",
   "execution_count": 170,
   "id": "c413a106",
   "metadata": {},
   "outputs": [
    {
     "data": {
      "text/plain": [
       "Index(['time_left', 'ct_score', 't_score', 'map', 'bomb_planted', 'ct_health',\n",
       "       't_health', 'ct_armor', 't_armor', 'ct_money', 't_money', 'ct_helmets',\n",
       "       't_helmets', 'ct_defuse_kits', 'ct_players_alive', 't_players_alive',\n",
       "       'round_winner'],\n",
       "      dtype='object')"
      ]
     },
     "execution_count": 170,
     "metadata": {},
     "output_type": "execute_result"
    }
   ],
   "source": [
    "df.columns"
   ]
  },
  {
   "cell_type": "markdown",
   "id": "0ccb3178",
   "metadata": {},
   "source": [
    "#### Prepare the data for the models"
   ]
  },
  {
   "cell_type": "code",
   "execution_count": 173,
   "id": "dd81086b",
   "metadata": {},
   "outputs": [],
   "source": [
    "# Used features\n",
    "features = [\"ct_score\", \"t_score\", \"time_left\", \"ct_money\", \"t_money\", \"map\", \"ct_armor\", \"t_armor\"]\n",
    "\n",
    "# Round winner is the label (1 or 0)\n",
    "X, y = df[features], df[\"round_winner\"]\n",
    "\n",
    "# K-fold (to prevent overfitting)\n",
    "seed=42\n",
    "kf = KFold(n_splits=3, shuffle=True, random_state=seed)"
   ]
  },
  {
   "cell_type": "code",
   "execution_count": 172,
   "id": "8f0e436a",
   "metadata": {},
   "outputs": [
    {
     "name": "stdout",
     "output_type": "stream",
     "text": [
      "training accuracy: 0.5269342940470063\n",
      "validation accuracy: 0.5200960690128419\n",
      "--------------\n",
      "training accuracy: 0.5227002585562514\n",
      "validation accuracy: 0.5285640761708698\n",
      "--------------\n",
      "training accuracy: 0.5243300207090078\n",
      "validation accuracy: 0.5253045119231429\n",
      "--------------\n"
     ]
    }
   ],
   "source": [
    "for train_indices, val_indices in kf.split(X):\n",
    "    X_train, X_val, y_train, y_val = X.iloc[train_indices], X.iloc[val_indices], y.iloc[train_indices], y.iloc[val_indices]\n",
    "    # Logistic regression classifier\n",
    "    clf_lr = LogisticRegression()\n",
    "    clf_lr.fit(X_train, y_train)\n",
    "    y_pred_train_lr = clf_lr.predict(X_train)\n",
    "    acc_train_lr = clf_lr.score(X_train, y_train)\n",
    "    accuracy_lr = clf_lr.score(X, y)\n",
    "\n",
    "    ## validation\n",
    "    y_pred_val_lr = clf_lr.predict(X_val)\n",
    "    acc_val_lr = clf_lr.score(X_val, y_val)\n",
    "    \n",
    "    print(f\"training accuracy: {acc_train_lr}\")\n",
    "    print(f\"validation accuracy: {acc_val_lr}\")\n",
    "    print(\"--------------\")\n"
   ]
  }
 ],
 "metadata": {
  "kernelspec": {
   "display_name": "Python 3 (ipykernel)",
   "language": "python",
   "name": "python3"
  },
  "language_info": {
   "codemirror_mode": {
    "name": "ipython",
    "version": 3
   },
   "file_extension": ".py",
   "mimetype": "text/x-python",
   "name": "python",
   "nbconvert_exporter": "python",
   "pygments_lexer": "ipython3",
   "version": "3.10.7"
  }
 },
 "nbformat": 4,
 "nbformat_minor": 5
}
